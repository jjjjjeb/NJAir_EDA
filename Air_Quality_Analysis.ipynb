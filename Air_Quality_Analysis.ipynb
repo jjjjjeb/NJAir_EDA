{
 "cells": [
  {
   "cell_type": "markdown",
   "metadata": {},
   "source": [
    "# Table of Contents\n",
    "\n",
    "## Substance\n",
    "\n",
    "- [Chromium Data](#Chromium-Data)\n",
    "- [Benzene Data](#Benzene-Data)\n",
    "- [Toluene Data](#Toluene-Data)\n",
    "- [Cadmium Data](#Cadmium-Data)"
   ]
  },
  {
   "cell_type": "code",
   "execution_count": 6,
   "metadata": {},
   "outputs": [
    {
     "ename": "SyntaxError",
     "evalue": "invalid syntax (<ipython-input-6-2adfb492662f>, line 7)",
     "output_type": "error",
     "traceback": [
      "\u001b[1;36m  File \u001b[1;32m\"<ipython-input-6-2adfb492662f>\"\u001b[1;36m, line \u001b[1;32m7\u001b[0m\n\u001b[1;33m    for config in Chromium import gkey\u001b[0m\n\u001b[1;37m                                ^\u001b[0m\n\u001b[1;31mSyntaxError\u001b[0m\u001b[1;31m:\u001b[0m invalid syntax\n"
     ]
    }
   ],
   "source": [
    "#Importing dependencies\n",
    "%matplotlib notebook\n",
    "import pandas as pd\n",
    "import matplotlib.pyplot as plt\n",
    "from citipy import citipy\n",
    "import gmaps\n",
    "for config in Chromium import gkey\n",
    "gmaps.configure(api_key=gkey)"
   ]
  },
  {
   "cell_type": "markdown",
   "metadata": {},
   "source": [
    "<a id='Chromium-Data'></a>"
   ]
  },
  {
   "cell_type": "markdown",
   "metadata": {},
   "source": [
    "# Chromium Data"
   ]
  },
  {
   "cell_type": "code",
   "execution_count": null,
   "metadata": {},
   "outputs": [],
   "source": [
    "#importing chromium csv\n",
    "chromium_csv = \"Database/Chromium/Chromium.csv\"\n",
    "chromium = pd.read_csv(chromium_csv)\n",
    "chromium.head()"
   ]
  },
  {
   "cell_type": "code",
   "execution_count": null,
   "metadata": {},
   "outputs": [],
   "source": [
    "#selecting which columns to keep in the dataframe\n",
    "chromium = chromium[['PROGRAM', 'YEAR', 'QUARTER', 'SAMPLE_DATE', 'SAMPLE_START_TIME', 'DURATION_DESC', \n",
    "'SAMPLE_VALUE_REPORTED', 'UNIT_DESC', 'SAMPLE_VALUE_STD_FINAL_TYPE', 'MDL_STD_UG_M3', 'CENSUS_TRACT_POPULATION_2010', 'MONITOR_LATITUDE', \n",
    "'MONITOR_LONGITUDE']]\n",
    "chromium.head()"
   ]
  },
  {
   "cell_type": "code",
   "execution_count": null,
   "metadata": {},
   "outputs": [],
   "source": [
    "#resaving as a pandas dataframe\n",
    "chromium_df = pd.DataFrame(chromium)\n",
    "chromium_df.head()"
   ]
  },
  {
   "cell_type": "code",
   "execution_count": null,
   "metadata": {},
   "outputs": [],
   "source": [
    "#checking value counts for each program in the dataset\n",
    "program = chromium_df[\"PROGRAM\"].value_counts()\n",
    "program"
   ]
  },
  {
   "cell_type": "code",
   "execution_count": null,
   "metadata": {},
   "outputs": [],
   "source": [
    "# Running inital plots to see what the data looks like and see an outlier in the data from the year 2008\n",
    "\n",
    "chromium_df.plot.scatter(x='YEAR', y='SAMPLE_VALUE_REPORTED', figsize=(10,5))\n",
    "plt.xlim(1990,2017)\n",
    "plt.title('Chromium (µg/m3) by Year in NJ', size=15)\n",
    "plt.xlabel('Year', size=12)\n",
    "plt.ylabel('Sample Value Reported', size=12)\n",
    "plt.savefig('Images/Chromium_sample_value_reported_year.png')"
   ]
  },
  {
   "cell_type": "code",
   "execution_count": null,
   "metadata": {},
   "outputs": [],
   "source": [
    "#separating the programs into their own respective datasets\n",
    "\n",
    "PM2_program_df = chromium_df.loc[chromium_df[\"PROGRAM\"] ==\"PM2.5 SPECIATION NETWORK\"]\n",
    "PM2_program_df.head()"
   ]
  },
  {
   "cell_type": "code",
   "execution_count": null,
   "metadata": {},
   "outputs": [],
   "source": [
    "sorted_date_PM2 = PM2_program_df.sort_values(\"YEAR\", ascending=False)\n",
    "sorted_date_PM2.head()"
   ]
  },
  {
   "cell_type": "code",
   "execution_count": null,
   "metadata": {},
   "outputs": [],
   "source": [
    "# grouping the dataset by Year and checking the max values for the program by year\n",
    "\n",
    "grouped_city= PM2_program_df.groupby([\"YEAR\"])\n",
    "\n",
    "year = pd.DataFrame(grouped_city[\"SAMPLE_VALUE_REPORTED\"].max())\n",
    "\n",
    "year.head()"
   ]
  },
  {
   "cell_type": "code",
   "execution_count": null,
   "metadata": {},
   "outputs": [],
   "source": [
    "#listing the unique coordinates for plotting in gmaps\n",
    "\n",
    "coordinates = [\n",
    "    (40.64144, -74.208365),\n",
    "    (40.720989, -74.192892),\n",
    "    (40.472825, -74.422403),\n",
    "    (40.787628, -74.676301),\n",
    "    (39.923042, -75.097617)\n",
    "]"
   ]
  },
  {
   "cell_type": "code",
   "execution_count": null,
   "metadata": {},
   "outputs": [],
   "source": [
    "# setting the layout for the gmaps plot\n",
    "\n",
    "figure_layout = {\n",
    "    'width': '800px',\n",
    "    'height': '300px',\n",
    "    'border': '1px solid black',\n",
    "    'padding': '1px',\n",
    "    'margin': '0 auto 0 auto'\n",
    "}\n",
    "fig = gmaps.figure(layout=figure_layout)"
   ]
  },
  {
   "cell_type": "code",
   "execution_count": null,
   "metadata": {},
   "outputs": [],
   "source": [
    "# setting the markers and plotting them into the gmap\n",
    "\n",
    "markers = gmaps.marker_layer(coordinates)\n",
    "\n",
    "fig.add_layer(markers)\n",
    "fig"
   ]
  },
  {
   "cell_type": "code",
   "execution_count": null,
   "metadata": {},
   "outputs": [],
   "source": [
    "# creating the dataset for the IMPROVE program\n",
    "\n",
    "improve_program_df = chromium_df.loc[chromium_df[\"PROGRAM\"] ==\"IMPROVE\"]\n",
    "improve_program_df.head()"
   ]
  },
  {
   "cell_type": "code",
   "execution_count": null,
   "metadata": {},
   "outputs": [],
   "source": [
    "# sorting the dataset by year\n",
    "\n",
    "sorted_date_improve = improve_program_df.sort_values(\"YEAR\", ascending=False)\n",
    "sorted_date_improve.head()"
   ]
  },
  {
   "cell_type": "code",
   "execution_count": null,
   "metadata": {},
   "outputs": [],
   "source": [
    "# grouping the dataset by Year and checking out the max values per Year\n",
    "\n",
    "grouped_city= improve_program_df.groupby([\"YEAR\"])\n",
    "\n",
    "year = pd.DataFrame(grouped_city[\"SAMPLE_VALUE_REPORTED\"].max())\n",
    "\n",
    "year.head()"
   ]
  },
  {
   "cell_type": "code",
   "execution_count": null,
   "metadata": {},
   "outputs": [],
   "source": [
    "# creating the dataset for the Community-Scale Monitoring program\n",
    "\n",
    "community_program_df = chromium_df.loc[chromium_df[\"PROGRAM\"] ==\"COMMUNITY-SCALE MONITORING\"]\n",
    "community_program_df.head()"
   ]
  },
  {
   "cell_type": "code",
   "execution_count": null,
   "metadata": {},
   "outputs": [],
   "source": [
    "# sorting the dataset by Year\n",
    "\n",
    "sorted_date_community = community_program_df.sort_values(\"YEAR\", ascending=False)\n",
    "sorted_date_community.head()"
   ]
  },
  {
   "cell_type": "code",
   "execution_count": null,
   "metadata": {},
   "outputs": [],
   "source": [
    "# grouping the dataset by Year and checking the max values for each Year\n",
    "\n",
    "grouped_city= community_program_df.groupby([\"YEAR\"])\n",
    "\n",
    "year = pd.DataFrame(grouped_city[\"SAMPLE_VALUE_REPORTED\"].max())\n",
    "\n",
    "year.head()"
   ]
  },
  {
   "cell_type": "code",
   "execution_count": null,
   "metadata": {},
   "outputs": [],
   "source": [
    "# creating a dataset for the CSN Supplemental program\n",
    "\n",
    "csn_program_df = chromium_df.loc[chromium_df[\"PROGRAM\"] ==\"CSN SUPPLEMENTAL\"]\n",
    "csn_program_df.head()"
   ]
  },
  {
   "cell_type": "code",
   "execution_count": null,
   "metadata": {},
   "outputs": [],
   "source": [
    "# sorting the dataset by Year\n",
    "\n",
    "sorted_date_csn = csn_program_df.sort_values(\"YEAR\", ascending=False)\n",
    "sorted_date_csn.head()"
   ]
  },
  {
   "cell_type": "code",
   "execution_count": null,
   "metadata": {},
   "outputs": [],
   "source": [
    "# grouping the dataset by Year and checking max values for each Year\n",
    "\n",
    "grouped_city= csn_program_df.groupby([\"YEAR\"])\n",
    "\n",
    "year = pd.DataFrame(grouped_city[\"SAMPLE_VALUE_REPORTED\"].max())\n",
    "\n",
    "year.head()"
   ]
  },
  {
   "cell_type": "code",
   "execution_count": null,
   "metadata": {},
   "outputs": [],
   "source": [
    "# creating the dataset for the SLAMS program\n",
    "\n",
    "slams_program_df = chromium_df.loc[chromium_df[\"PROGRAM\"] ==\"SLAMS\"]\n",
    "slams_program_df.head()"
   ]
  },
  {
   "cell_type": "code",
   "execution_count": null,
   "metadata": {},
   "outputs": [],
   "source": [
    "# sorting the dataset by Year\n",
    "\n",
    "sorted_date_slams = slams_program_df.sort_values(\"YEAR\", ascending=False)\n",
    "sorted_date_slams.head()"
   ]
  },
  {
   "cell_type": "code",
   "execution_count": null,
   "metadata": {},
   "outputs": [],
   "source": [
    "# grouping the program data by Year and checking max values for each Year\n",
    "\n",
    "grouped_city= slams_program_df.groupby([\"YEAR\"])\n",
    "\n",
    "year = pd.DataFrame(grouped_city[\"SAMPLE_VALUE_REPORTED\"].max())\n",
    "\n",
    "year.head()"
   ]
  },
  {
   "cell_type": "code",
   "execution_count": null,
   "metadata": {},
   "outputs": [],
   "source": [
    "# Creating a dataset that has values based on the AQI (Air Quality Index) breakpoints. This one is for what is considered \"sensitive\" air quality\n",
    "\n",
    "breakpoints_sensitive = chromium_df.loc[(chromium_df[\"SAMPLE_VALUE_REPORTED\"]>35.5) &\n",
    "                              (chromium_df[\"SAMPLE_VALUE_REPORTED\"]<= 55.4)]\n",
    "breakpoints_sensitive = pd.DataFrame(breakpoints_sensitive)\n",
    "breakpoints_sensitive.head()"
   ]
  },
  {
   "cell_type": "code",
   "execution_count": null,
   "metadata": {},
   "outputs": [],
   "source": [
    "# Seeing which programs recorded these \"sensitive\" breakpoints and only one program did\n",
    "\n",
    "program_count = breakpoints_sensitive[\"PROGRAM\"].value_counts()\n",
    "program_count.head()"
   ]
  },
  {
   "cell_type": "code",
   "execution_count": null,
   "metadata": {},
   "outputs": [],
   "source": [
    "# Checking to see which years this data was recorded\n",
    "\n",
    "year_count = breakpoints_sensitive[\"YEAR\"].value_counts()\n",
    "year_count"
   ]
  },
  {
   "cell_type": "code",
   "execution_count": null,
   "metadata": {},
   "outputs": [],
   "source": [
    "# Plotting this data onto gmaps\n",
    "\n",
    "locations = breakpoints_sensitive[['MONITOR_LATITUDE', 'MONITOR_LONGITUDE']]\n",
    "weights = breakpoints_sensitive['SAMPLE_VALUE_REPORTED']\n",
    "fig = gmaps.figure()\n",
    "fig.add_layer(gmaps.heatmap_layer(locations, weights=weights))\n",
    "fig"
   ]
  },
  {
   "cell_type": "code",
   "execution_count": null,
   "metadata": {},
   "outputs": [],
   "source": [
    "# Creating a dataset with values that are considered \"unhealthy\" on the AQI (Air Quality Index) breakpoints\n",
    "\n",
    "breakpoints_unhealthy = chromium_df.loc[(chromium_df[\"SAMPLE_VALUE_REPORTED\"]>=55.5) &\n",
    "                              (chromium_df[\"SAMPLE_VALUE_REPORTED\"]<= 150.4)]\n",
    "breakpoints_unhealthy= pd.DataFrame(breakpoints_unhealthy)\n",
    "\n",
    "breakpoints_unhealthy.head()"
   ]
  },
  {
   "cell_type": "code",
   "execution_count": null,
   "metadata": {},
   "outputs": [],
   "source": [
    "# Checking which programs measured this data\n",
    "\n",
    "program_count = breakpoints_unhealthy[\"PROGRAM\"].value_counts()\n",
    "program_count"
   ]
  },
  {
   "cell_type": "code",
   "execution_count": null,
   "metadata": {},
   "outputs": [],
   "source": [
    "# Checking which years this data was recorded\n",
    "\n",
    "year_count = breakpoints_unhealthy[\"YEAR\"].value_counts()\n",
    "year_count"
   ]
  },
  {
   "cell_type": "code",
   "execution_count": null,
   "metadata": {},
   "outputs": [],
   "source": [
    "# Plotting this data onto a gmap\n",
    "\n",
    "locations = breakpoints_unhealthy[['MONITOR_LATITUDE', 'MONITOR_LONGITUDE']]\n",
    "weights = breakpoints_unhealthy['SAMPLE_VALUE_REPORTED']\n",
    "fig = gmaps.figure()\n",
    "fig.add_layer(gmaps.heatmap_layer(locations, weights=weights))\n",
    "fig"
   ]
  },
  {
   "cell_type": "code",
   "execution_count": null,
   "metadata": {},
   "outputs": [],
   "source": [
    "# Creating a dataset that is based on values considered to be \"very unhealthy\" based on the AQI (Air Quality Index) breakpoints\n",
    "\n",
    "breakpoints_veryunhealthy = chromium_df.loc[(chromium_df[\"SAMPLE_VALUE_REPORTED\"]>=150.5) &\n",
    "                              (chromium_df[\"SAMPLE_VALUE_REPORTED\"]<= 250.4)]\n",
    "\n",
    "breakpoints_veryunhealthy.head()"
   ]
  },
  {
   "cell_type": "code",
   "execution_count": null,
   "metadata": {},
   "outputs": [],
   "source": [
    "# Checking which programs recorded this data\n",
    "\n",
    "program_count = breakpoints_veryunhealthy[\"PROGRAM\"].value_counts()\n",
    "program_count"
   ]
  },
  {
   "cell_type": "code",
   "execution_count": null,
   "metadata": {},
   "outputs": [],
   "source": [
    "# Seeing which years this data was recorded\n",
    "\n",
    "year_count = breakpoints_veryunhealthy[\"YEAR\"].value_counts()\n",
    "year_count"
   ]
  },
  {
   "cell_type": "code",
   "execution_count": null,
   "metadata": {},
   "outputs": [],
   "source": [
    "# Plotting this data onto a gmap\n",
    "\n",
    "locations = breakpoints_veryunhealthy[['MONITOR_LATITUDE', 'MONITOR_LONGITUDE']]\n",
    "weights = breakpoints_veryunhealthy['SAMPLE_VALUE_REPORTED']\n",
    "fig = gmaps.figure()\n",
    "fig.add_layer(gmaps.heatmap_layer(locations, weights=weights))\n",
    "fig"
   ]
  },
  {
   "cell_type": "code",
   "execution_count": null,
   "metadata": {},
   "outputs": [],
   "source": [
    "# Creating a dataset based on which values are considered \"hazardous\" based on the AQI (Air Quality Index) breakpoints\n",
    "# Only one value was recorded for this\n",
    "breakpoints_hazardous = chromium_df.loc[(chromium_df[\"SAMPLE_VALUE_REPORTED\"]>=250.5)]\n",
    "\n",
    "breakpoints_hazardous"
   ]
  },
  {
   "cell_type": "code",
   "execution_count": null,
   "metadata": {},
   "outputs": [],
   "source": [
    "# Checking which programs recorded this data\n",
    "\n",
    "program_count = breakpoints_hazardous[\"PROGRAM\"].value_counts()\n",
    "program_count"
   ]
  },
  {
   "cell_type": "code",
   "execution_count": null,
   "metadata": {},
   "outputs": [],
   "source": [
    "# Checking which year it was recorded\n",
    "\n",
    "year_count = breakpoints_hazardous[\"YEAR\"].value_counts()\n",
    "year_count"
   ]
  },
  {
   "cell_type": "code",
   "execution_count": null,
   "metadata": {},
   "outputs": [],
   "source": [
    "# Plotting the data onto a gmap\n",
    "\n",
    "locations = breakpoints_hazardous[['MONITOR_LATITUDE', 'MONITOR_LONGITUDE']]\n",
    "weights = breakpoints_hazardous['SAMPLE_VALUE_REPORTED']\n",
    "fig = gmaps.figure()\n",
    "fig.add_layer(gmaps.heatmap_layer(locations, weights=weights))\n",
    "fig"
   ]
  },
  {
   "cell_type": "code",
   "execution_count": null,
   "metadata": {},
   "outputs": [],
   "source": [
    "# Pulling out all the unique corrdinates in the dataset and appending it to a list,\n",
    "# Then using citipy to check for the city based on the coordinates and append it to another list\n",
    "\n",
    "coordinates = []\n",
    "for index, row in chromium_df.iterrows(): \n",
    "    if (row['MONITOR_LATITUDE'], row['MONITOR_LONGITUDE']) not in coordinates:\n",
    "        coordinates.append((row['MONITOR_LATITUDE'],row['MONITOR_LONGITUDE']))\n",
    "print(coordinates)\n",
    "cities = []\n",
    "for coordinate_pair in coordinates:\n",
    "    lat, lon = coordinate_pair\n",
    "    cities.append(citipy.nearest_city(lat, lon))\n",
    "# cities\n",
    "city_names = []\n",
    "for city in cities:\n",
    "    city_names.append(city.city_name)\n",
    "city_names"
   ]
  },
  {
   "cell_type": "code",
   "execution_count": null,
   "metadata": {},
   "outputs": [],
   "source": [
    "# Creating a dataset that combines the coordinates and city names\n",
    "\n",
    "city_data = pd.DataFrame({'Coordinates':coordinates,'City Name': city_names})\n",
    "city_data\n",
    "\n",
    "# Creating a for loop that checks which longitude belongs to which city, then appends that to another list,\n",
    "# To then be appended as a new column in the original dataframe\n",
    "city_index = []\n",
    "for index, row in chromium_df.iterrows():\n",
    "    for cindex, crow in city_data.iterrows():\n",
    "        if crow['Coordinates'][1] == row['MONITOR_LONGITUDE']:\n",
    "            city_index.append(crow['City Name'])\n",
    "            continue\n",
    "chromium_df['City'] = city_index            \n",
    "chromium_df.head()"
   ]
  },
  {
   "cell_type": "code",
   "execution_count": null,
   "metadata": {},
   "outputs": [],
   "source": [
    "# Grouping the dataset based on City and checking for max values in each City and we see Secaucus has a huge max value\n",
    "\n",
    "grouped_city= chromium_df.groupby([\"City\"])\n",
    "\n",
    "city = pd.DataFrame(grouped_city[\"SAMPLE_VALUE_REPORTED\"].max())\n",
    "\n",
    "city"
   ]
  },
  {
   "cell_type": "code",
   "execution_count": null,
   "metadata": {},
   "outputs": [],
   "source": [
    "# Creating a City list to be used for plotting\n",
    "\n",
    "# city_list = grouped_city['City'].value_counts()\n",
    "# city_list\n",
    "city_list = ['Brigantine', 'Camden', 'Elizabeth', \n",
    "             'Highland Park', 'Hopatcong', 'Little Ferry', 'New Brunswick','Newark','Seacaucus']"
   ]
  },
  {
   "cell_type": "code",
   "execution_count": null,
   "metadata": {},
   "outputs": [],
   "source": [
    "# Plotting out sample means by City and Little Ferry and Secaucus have means that are really high\n",
    "# and so the other ones are so small they can't be differentiated on the plot\n",
    "colors=['blue', 'red', 'green', 'orange','purple','tan', 'black', 'gray','maroon']\n",
    "plt.figure(figsize=(10,5))\n",
    "plt.scatter(city_list,grouped_city['SAMPLE_VALUE_REPORTED'].mean(), alpha=0.7, color =colors)\n",
    "# plt.xlim(1989,2017)\n",
    "plt.title('Sample Final Mean by City (µg/m3)', size=20)\n",
    "plt.xlabel('City', size=16)\n",
    "plt.xticks(rotation=45)\n",
    "plt.ylabel('Sample Value Mean', size=16)\n",
    "plt.savefig('Images/Chromium_Sample_Final_Mean_by_City.png')"
   ]
  },
  {
   "cell_type": "code",
   "execution_count": null,
   "metadata": {},
   "outputs": [],
   "source": [
    "# Grouping the dataset by City, Year, and Program and checking out the max values\n",
    "\n",
    "grouped_city= chromium_df.groupby([\"City\", \"YEAR\", \"PROGRAM\"])\n",
    "\n",
    "year = pd.DataFrame(grouped_city[\"SAMPLE_VALUE_REPORTED\"].max())\n",
    "\n",
    "year.head()"
   ]
  },
  {
   "cell_type": "code",
   "execution_count": null,
   "metadata": {},
   "outputs": [],
   "source": [
    "# flattening groupby into a level df\n",
    "\n",
    "clean_means = year.reset_index().pivot('YEAR','City','SAMPLE_VALUE_REPORTED')\n",
    "clean_means"
   ]
  },
  {
   "cell_type": "code",
   "execution_count": null,
   "metadata": {},
   "outputs": [],
   "source": [
    "# Plotting out max values by City and Year, and Little Ferry and Secaucus have maxes that are really high\n",
    "# and so the other ones are so small they can't be differentiated on the plot unless zoomed in\n",
    "\n",
    "colors = ['blue', 'red', 'tan', 'orange', 'green', 'purple', 'brown', 'darkblue', 'hotpink']\n",
    "clean_means.plot(sharex='all', figsize=(9,5), color=colors, marker=11, linewidth=0.5)\n",
    "plt.grid(b=None, which='both', axis='both', alpha=0.25)\n",
    "plt.legend(bbox_to_anchor=(1.05,1))\n",
    "plt.ylabel('µg/m3 (micrograms per cubic meter)', size=10)\n",
    "plt.xlabel('Year', size=14)\n",
    "plt.xlim(1989,2017)\n",
    "plt.minorticks_on()\n",
    "plt.title('Max Values for Chromium Air Samples by Year and City', size=16)\n",
    "plt.savefig('Images/Chromium_max_values_per_city.png')"
   ]
  },
  {
   "cell_type": "markdown",
   "metadata": {},
   "source": [
    "<a id='Benzene-Data'></a>"
   ]
  },
  {
   "cell_type": "markdown",
   "metadata": {},
   "source": [
    "# Benzene Data"
   ]
  },
  {
   "cell_type": "code",
   "execution_count": null,
   "metadata": {},
   "outputs": [],
   "source": [
    "benzenepath = \"Database/Benzene/benzene_clean_full.csv\"\n",
    "benzene_clean = pd.read_csv(benzenepath)\n",
    "benzene_clean.head()"
   ]
  },
  {
   "cell_type": "code",
   "execution_count": null,
   "metadata": {},
   "outputs": [],
   "source": [
    "year_group = benzene_clean.groupby(by='YEAR')"
   ]
  },
  {
   "cell_type": "code",
   "execution_count": null,
   "metadata": {},
   "outputs": [],
   "source": [
    "year_group['SAMPLE_VALUE_STD_FINAL_UG_M3'].mean()"
   ]
  },
  {
   "cell_type": "code",
   "execution_count": null,
   "metadata": {},
   "outputs": [],
   "source": [
    "year_list = year_group['YEAR'].unique()"
   ]
  },
  {
   "cell_type": "code",
   "execution_count": null,
   "metadata": {},
   "outputs": [],
   "source": [
    "plt.figure(figsize=(10,5))\n",
    "plt.bar(year_list,year_group['SAMPLE_VALUE_STD_FINAL_UG_M3'].mean(), alpha=0.7)\n",
    "plt.xlim(1989,2017)\n",
    "plt.title('Sample Final Mean by Year (μg/m$^3$))', size=20)\n",
    "plt.xlabel('Year', size=16)\n",
    "plt.ylabel('Sample Value Mean', size=16)\n",
    "# plt.savefig('Images/sample_final_mean.png')"
   ]
  },
  {
   "cell_type": "code",
   "execution_count": null,
   "metadata": {},
   "outputs": [],
   "source": [
    "month_group = benzene_clean.groupby('Month')\n",
    "month_group['SAMPLE_VALUE_STD_FINAL_UG_M3'].mean()"
   ]
  },
  {
   "cell_type": "code",
   "execution_count": null,
   "metadata": {},
   "outputs": [],
   "source": [
    "month_list = ['Apr','Aug','Dec','Feb','Jan','Jul','Jun','Mar','May','Nov','Oct','Sep']\n",
    "# month_list"
   ]
  },
  {
   "cell_type": "code",
   "execution_count": null,
   "metadata": {},
   "outputs": [],
   "source": [
    "plt.figure(figsize=(10,5))\n",
    "plt.bar(month_list,month_group['SAMPLE_VALUE_STD_FINAL_UG_M3'].mean(), alpha=0.7)\n",
    "# plt.xlim(1989,2017)\n",
    "plt.title('Sample Final Mean by Month (μg/m$^3$)', size=20)\n",
    "plt.xlabel('Month', size=16)\n",
    "plt.ylabel('Sample Value Mean', size=16)"
   ]
  },
  {
   "cell_type": "code",
   "execution_count": null,
   "metadata": {},
   "outputs": [],
   "source": [
    "city_group = benzene_clean.groupby('City')\n",
    "city_group['SAMPLE_VALUE_STD_FINAL_UG_M3'].mean()"
   ]
  },
  {
   "cell_type": "code",
   "execution_count": null,
   "metadata": {},
   "outputs": [],
   "source": [
    "city_list = city_group['City'].value_counts()\n",
    "city_list\n",
    "city_list = ['Bayonne', 'Camden', 'Darby','Elizabeth','Ewing','Fort Lee','Harrison','Highland Park','Hopcatong','New Brunswick','Newark','North Plainfield','Paterson']"
   ]
  },
  {
   "cell_type": "code",
   "execution_count": null,
   "metadata": {},
   "outputs": [],
   "source": [
    "city_year_group = benzene_clean.groupby(by=['YEAR', 'City'])\n",
    "city_year_mean = pd.DataFrame(city_year_group['SAMPLE_VALUE_STD_FINAL_UG_M3'].mean())\n",
    "city_year_mean"
   ]
  },
  {
   "cell_type": "code",
   "execution_count": null,
   "metadata": {},
   "outputs": [],
   "source": [
    "plt.figure(figsize=(10,5))\n",
    "plt.bar(city_list,city_group['SAMPLE_VALUE_STD_FINAL_UG_M3'].mean(), alpha=0.7)\n",
    "# plt.xlim(1989,2017)\n",
    "plt.title('Sample Final Mean by City (microg/c3)', size=20)\n",
    "plt.xlabel('City', size=16)\n",
    "plt.xticks(rotation=45)\n",
    "plt.ylabel('Sample Value Mean', size=16)\n",
    "# plt.savefig('Images/sample_final_mean_city.png')"
   ]
  },
  {
   "cell_type": "code",
   "execution_count": null,
   "metadata": {},
   "outputs": [],
   "source": [
    "elizabeth = pd.DataFrame(city_year_mean.query('City == [\\'elizabeth\\']'))\n",
    "# elizabeth\n",
    "\n",
    "camden = pd.DataFrame(city_year_mean.query('City == [\\'camden\\']'))\n",
    "# camden\n",
    "\n",
    "hopatcong = pd.DataFrame(city_year_mean.query('City == [\\'hopatcong\\']'))\n",
    "# hopatcong\n",
    "\n",
    "new_brunswick = pd.DataFrame(city_year_mean.query('City == [\\'new brunswick\\']'))\n",
    "# new_brunswick\n",
    "\n",
    "ewing = pd.DataFrame(city_year_mean.query('City == [\\'ewing\\']'))\n",
    "# ewing\n",
    "\n",
    "highland_park = pd.DataFrame(city_year_mean.query('City == [\\'highland park\\']'))\n",
    "# highland_park\n",
    "\n",
    "fig, axes = plt.subplots(nrows=2, ncols=3, figsize=(20,15))\n",
    "fig.suptitle(\"Air Quality Change Over Time (μg/$m^3$)\", size = 24, va= 'top')\n",
    "\n",
    "elizabeth.plot(kind='bar', ax=axes[0,0], ylim=(0,4.25), legend=False)\n",
    "axes[0,0].set_title(\"Elizabeth\")\n",
    "\n",
    "camden.plot(kind='bar', color='black', ax=axes[0,1], ylim=(0,4.25), legend=False)\n",
    "axes[0,1].set_title(\"Camden\")\n",
    "\n",
    "hopatcong.plot(kind='bar', color='red', ax=axes[0,2], ylim=(0,4.25), legend=False)\n",
    "axes[0,2].set_title(\"Hopatcong\")\n",
    "\n",
    "new_brunswick.plot(kind='bar', color = 'green', ax=axes[1,0], ylim=(0,4.25), legend=False)\n",
    "axes[1,0].set_title(\"New Brunswick\")\n",
    "\n",
    "highland_park.plot(kind='bar', color='gray', ax=axes[1,1], ylim=(0,4.25), legend=False)\n",
    "axes[1,1].set_title(\"Highland Park\")\n",
    "\n",
    "ewing.plot(kind='bar', color='purple', ax=axes[1,2], ylim=(0,4.25), legend=False)\n",
    "axes[1,2].set_title(\"Ewing\")\n",
    "\n",
    "# fig.subplots_adjust(hspace=0.45,wspace=0.1)\n",
    "plt.tight_layout(pad=6)\n",
    "# plt.savefig('Images/air_quality_change_city.png')"
   ]
  },
  {
   "cell_type": "markdown",
   "metadata": {},
   "source": [
    "<a id='Toluene-Data'></a>"
   ]
  },
  {
   "cell_type": "markdown",
   "metadata": {},
   "source": [
    "# Toluene Data"
   ]
  },
  {
   "cell_type": "code",
   "execution_count": null,
   "metadata": {},
   "outputs": [],
   "source": [
    "# Reading database\n",
    "\n",
    "toluene_clean = pd.read_csv(\"Database/Toluene/toluene_clean_with_cities.csv\")\n",
    "toluene_clean.head()"
   ]
  },
  {
   "cell_type": "code",
   "execution_count": null,
   "metadata": {},
   "outputs": [],
   "source": [
    "# Grouping overall test result means by year\n",
    "\n",
    "yearly = toluene_clean.groupby(by='YEAR')\n",
    "year_group = yearly['SAMPLE_VALUE_STD_FINAL_UG_M3'].mean()\n",
    "year_group_db = pd.DataFrame(year_group)\n",
    "year_group_db"
   ]
  },
  {
   "cell_type": "code",
   "execution_count": null,
   "metadata": {},
   "outputs": [],
   "source": [
    "# Plotting by year\n",
    "# ...might show there have been some change in regulation between 1994 and 1995?\n",
    "\n",
    "ax = year_group_db.plot.bar(rot=0, figsize=(10,5), color='green')\n",
    "plt.xlabel('Years', size=10)\n",
    "plt.ylabel('Value in µg/m3', size=10)\n",
    "plt.title('Toluene: Average Value by Year', size=14)\n",
    "plt.grid(alpha=0.4)\n",
    "plt.xticks(rotation=50)\n",
    "plt.tight_layout(pad=3)\n",
    "plt.savefig('Images/Toluene_yearly_mean_across_all_data_sets.png')\n",
    "plt.show()"
   ]
  },
  {
   "cell_type": "code",
   "execution_count": null,
   "metadata": {},
   "outputs": [],
   "source": [
    "# Grouping by location\n",
    "\n",
    "latitude = toluene_clean.groupby(by='MONITOR_LATITUDE')\n",
    "latitude_group = latitude['SAMPLE_VALUE_STD_FINAL_UG_M3'].mean()\n",
    "latitude_group_db = pd.DataFrame(latitude_group)\n",
    "latitude_group_db"
   ]
  },
  {
   "cell_type": "code",
   "execution_count": null,
   "metadata": {},
   "outputs": [],
   "source": [
    "# Getting averages by location\n",
    "\n",
    "ax = latitude_group_db.plot.bar(rot=0, figsize=(9,5), color='tan')\n",
    "plt.xlabel('Latitudes', size=10)\n",
    "plt.ylabel('µg/m3', size=10)\n",
    "plt.title('Toluene: Mean Value of Samples from 1990-2016 by Latitude', size=14)\n",
    "plt.grid(alpha=0.4)\n",
    "plt.xticks(rotation=90)\n",
    "plt.tight_layout(pad=3)\n",
    "plt.savefig('Images/Toluene_mean_by_latitude_bar.png')\n",
    "plt.show()"
   ]
  },
  {
   "cell_type": "code",
   "execution_count": null,
   "metadata": {
    "scrolled": true
   },
   "outputs": [],
   "source": [
    "# Getting averages per city for all the years\n",
    "\n",
    "city_groupby = toluene_clean.groupby(by='City')\n",
    "city_groupby = city_groupby['SAMPLE_VALUE_STD_FINAL_UG_M3'].mean()\n",
    "city_groupby_db = pd.DataFrame(city_groupby)\n",
    "city_groupby_db"
   ]
  },
  {
   "cell_type": "code",
   "execution_count": null,
   "metadata": {},
   "outputs": [],
   "source": [
    "# Similar to the lat graph but organized by city\n",
    "\n",
    "ax = city_groupby_db.plot.bar(rot=0, figsize=(9,5), color='tan')\n",
    "plt.xlabel('City', size=10)\n",
    "plt.ylabel('µg/m3', size=10)\n",
    "plt.title('Toluene: Mean Value of Samples from 1990-2016 by City', size=13)\n",
    "plt.grid(alpha=0.4)\n",
    "plt.xticks(rotation=90)\n",
    "plt.tight_layout(pad=3)\n",
    "plt.savefig('Images/Toluene_mean_by_city_bar.png')\n",
    "plt.show()"
   ]
  },
  {
   "cell_type": "code",
   "execution_count": null,
   "metadata": {},
   "outputs": [],
   "source": [
    "# Multi-level index df (groupby) to get yearly MEAN by city\n",
    "\n",
    "yearcity_groupby = toluene_clean.groupby(['City', 'YEAR'])['SAMPLE_VALUE_STD_FINAL_UG_M3']\n",
    "mean_by_year = yearcity_groupby.mean()\n",
    "mean_by_year_df = pd.DataFrame(mean_by_year)\n",
    "mean_by_year_df.head()"
   ]
  },
  {
   "cell_type": "code",
   "execution_count": null,
   "metadata": {},
   "outputs": [],
   "source": [
    "# Multi-level index df (groupby) to get yearly MAX by city\n",
    "\n",
    "yearcity_groupby = toluene_clean.groupby(['City', 'YEAR'])['SAMPLE_VALUE_STD_FINAL_UG_M3']\n",
    "max_by_year = yearcity_groupby.max()\n",
    "max_by_year_df = pd.DataFrame(max_by_year)\n",
    "max_by_year_df.head()"
   ]
  },
  {
   "cell_type": "code",
   "execution_count": null,
   "metadata": {},
   "outputs": [],
   "source": [
    "# Pivoting and flattening MAX table\n",
    "\n",
    "clean_max = max_by_year_df.reset_index().pivot('YEAR','City','SAMPLE_VALUE_STD_FINAL_UG_M3')\n",
    "clean_max"
   ]
  },
  {
   "cell_type": "code",
   "execution_count": null,
   "metadata": {},
   "outputs": [],
   "source": [
    "# Pivoting and flattening MEAN table\n",
    "\n",
    "clean_means = mean_by_year_df.reset_index().pivot('YEAR','City','SAMPLE_VALUE_STD_FINAL_UG_M3')\n",
    "clean_means"
   ]
  },
  {
   "cell_type": "code",
   "execution_count": null,
   "metadata": {
    "scrolled": true
   },
   "outputs": [],
   "source": [
    "# A graphic look into city averages by year\n",
    "# ...The drop off in the original data looks like it is due to the ending of\n",
    "# ... data sampling for north plainfeild & harrison which recorded incredibly high averages\n",
    "\n",
    "colors = ['blue', 'red', 'tan', 'orange', 'green', 'purple', 'brown', 'darkblue', 'hotpink', 'grey', 'aqua', 'lightblue', 'maroon']\n",
    "clean_means.plot(sharex='all', figsize=(10,6), color=colors, marker=11, linewidth=0.5)\n",
    "plt.grid(b=None, which='both', axis='both', alpha=0.25)\n",
    "plt.legend(bbox_to_anchor=(1.05,1.05))\n",
    "plt.ylabel('µg/m3 (micrograms per cubic meter)', size=10)\n",
    "plt.xlabel('Year', size=10)\n",
    "plt.xlim(1989,2017)\n",
    "plt.minorticks_on()\n",
    "plt.tight_layout(pad=3)\n",
    "plt.title('Toluene: Mean of Samples by Year and City', size=14)\n",
    "plt.savefig('Images/toluene_mean_values_per_city.png')\n",
    "plt.show()"
   ]
  },
  {
   "cell_type": "code",
   "execution_count": null,
   "metadata": {},
   "outputs": [],
   "source": [
    "# A graphic look into city's max value by year\n",
    "\n",
    "colors = ['blue', 'red', 'tan', 'orange', 'green', 'purple', 'brown', 'darkblue', 'hotpink', 'grey', 'aqua', 'lightblue', 'maroon']\n",
    "\n",
    "clean_max.plot(sharex='all', figsize=(10,6), color=colors, marker=11, linewidth=0.5)\n",
    "plt.grid(b=None, which='both', axis='both', alpha=0.25)\n",
    "plt.legend(bbox_to_anchor=(1.05,1.05))\n",
    "plt.ylabel('µg/m3 (micrograms per cubic meter)', size=10)\n",
    "plt.xlabel('Year', size=10)\n",
    "plt.xlim(1989,2017)\n",
    "plt.minorticks_on()\n",
    "plt.tight_layout(pad=3)\n",
    "plt.title('Toluene: Max Values by Year and City', size=14)\n",
    "plt.savefig('Images/Toluene_max_values_per_city.png')"
   ]
  },
  {
   "cell_type": "code",
   "execution_count": null,
   "metadata": {},
   "outputs": [],
   "source": [
    "# Highlights of city averages: City's must have recorded at least 10 YEARS of data.\n",
    "\n",
    "fig, axes = plt.subplots(nrows=2, ncols=3, figsize=(17,10))\n",
    "fig.suptitle(\"Air Quality Change Over Time (μg/$m^3$)\", size = 14, va= 'top')\n",
    "\n",
    "clean_means['camden'].plot(kind='bar', color='red', ax=axes[0,0], ylim=(0,22), legend=False)\n",
    "axes[0,0].set_title(\"Camden\")\n",
    "\n",
    "clean_means['elizabeth'].plot(kind='bar', color='orange', ax=axes[0,1], ylim=(0,22), legend=False)\n",
    "axes[0,1].set_title(\"Elizabeth\")\n",
    "\n",
    "clean_means['ewing'].plot(kind='bar', color='green', ax=axes[0,2], ylim=(0,22), legend=False)\n",
    "axes[0,2].set_title(\"Ewing\")\n",
    "\n",
    "clean_means['highland park'].plot(kind='bar', color = 'darkblue', ax=axes[1,0], ylim=(0,22), legend=False)\n",
    "axes[1,0].set_title(\"Highland Park\")\n",
    "\n",
    "clean_means['hopatcong'].plot(kind='bar', color='hotpink', ax=axes[1,1], ylim=(0,22), legend=False)\n",
    "axes[1,1].set_title(\"Hopatcong\")\n",
    "\n",
    "clean_means['new brunswick'].plot(kind='bar', color='grey', ax=axes[1,2], ylim=(0,22), legend=False)\n",
    "axes[1,2].set_title(\"New Brunswick\")\n",
    "\n",
    "fig.subplots_adjust(hspace=0.45,wspace=0.1)\n",
    "plt.tight_layout(pad=6)\n",
    "plt.savefig('Images/Toluene_mean_city_highlights.png')"
   ]
  },
  {
   "cell_type": "code",
   "execution_count": null,
   "metadata": {},
   "outputs": [],
   "source": [
    "# Highlights of city's MAX values: City's must have recorded at least 10 YEARS of data.\n",
    "\n",
    "fig, axes = plt.subplots(nrows=2, ncols=3, figsize=(17,10))\n",
    "fig.suptitle(\"Air Quality Change Over Time (μg/$m^3$)\", size = 14, va= 'top')\n",
    "\n",
    "clean_max['camden'].plot(kind='bar', color='red', ax=axes[0,0], ylim=(0,250), legend=False)\n",
    "axes[0,0].set_title(\"Camden\")\n",
    "\n",
    "clean_max['elizabeth'].plot(kind='bar', color='orange', ax=axes[0,1], ylim=(0,250), legend=False)\n",
    "axes[0,1].set_title(\"Elizabeth\")\n",
    "\n",
    "clean_max['ewing'].plot(kind='bar', color='green', ax=axes[0,2], ylim=(0,250), legend=False)\n",
    "axes[0,2].set_title(\"Ewing\")\n",
    "\n",
    "clean_max['highland park'].plot(kind='bar', color = 'darkblue', ax=axes[1,0], ylim=(0,250), legend=False)\n",
    "axes[1,0].set_title(\"Highland Park\")\n",
    "\n",
    "clean_max['hopatcong'].plot(kind='bar', color='hotpink', ax=axes[1,1], ylim=(0,250), legend=False)\n",
    "axes[1,1].set_title(\"Hopatcong\")\n",
    "\n",
    "clean_max['new brunswick'].plot(kind='bar', color='grey', ax=axes[1,2], ylim=(0,850), legend=False)\n",
    "axes[1,2].set_title(\"**New Brunswick, 2005 Max:4x Camden's highest value\")\n",
    "\n",
    "fig.subplots_adjust(hspace=0.45,wspace=0.1)\n",
    "plt.tight_layout(pad=6)\n",
    "plt.savefig('Images/Toluene_max_city_highlights.png')"
   ]
  },
  {
   "cell_type": "markdown",
   "metadata": {},
   "source": [
    "<a id='Cadmium-Data'></a>"
   ]
  },
  {
   "cell_type": "markdown",
   "metadata": {},
   "source": [
    "# Cadmium Data"
   ]
  },
  {
   "cell_type": "code",
   "execution_count": null,
   "metadata": {},
   "outputs": [],
   "source": [
    "cadmium_df = pd.read_csv(\"Database/Cadmium/Cadmium.csv.csv\")\n",
    "cadmium_df.head()"
   ]
  },
  {
   "cell_type": "code",
   "execution_count": null,
   "metadata": {},
   "outputs": [],
   "source": [
    "cadmium_clean= cadmium_df.filter(items=['PROGRAM', 'YEAR', 'QUARTER',\n",
    "       'SAMPLE_DATE', 'SAMPLE_START_TIME', 'DURATION_DESC',\n",
    "       'SAMPLE_VALUE_REPORTED', 'AQS_UNIT_CODE', 'UNIT_DESC',\n",
    "       'SAMPLING_FREQUENCY_CODE', 'SAMPLE_VALUE_STD_FINAL_UG_M3',\n",
    "       'SAMPLE_VALUE_STD_FINAL_TYPE', 'MDL_STD_UG_M3',\n",
    "       'CENSUS_TRACT_POPULATION_2010', 'MONITOR_LATITUDE', 'MONITOR_LONGITUDE'])\n",
    "cadmium_clean.head()"
   ]
  },
  {
   "cell_type": "code",
   "execution_count": null,
   "metadata": {},
   "outputs": [],
   "source": [
    "cadmium_24hours= cadmium_clean[cadmium_clean['DURATION_DESC'] == '24 HOURS']\n",
    "cadmium_24hours.head()"
   ]
  },
  {
   "cell_type": "code",
   "execution_count": null,
   "metadata": {},
   "outputs": [],
   "source": [
    "cadmium_years_24hours=cadmium_24hours.groupby(by='YEAR')\n",
    "cadmium_years_24hours.head()"
   ]
  },
  {
   "cell_type": "code",
   "execution_count": null,
   "metadata": {},
   "outputs": [],
   "source": [
    "mean_values=cadmium_years_24hours['SAMPLE_VALUE_STD_FINAL_UG_M3'].mean()\n",
    "new_df=pd.DataFrame(mean_values)\n",
    "new_df=new_df.rename(columns={'SAMPLE_VALUE_STD_FINAL_UG_M3':'FINAL VALUE MEAN UG M3'})"
   ]
  },
  {
   "cell_type": "code",
   "execution_count": null,
   "metadata": {},
   "outputs": [],
   "source": [
    "njyears_at_risk= new_df[new_df['FINAL VALUE MEAN UG M3']>0.0018]\n",
    "njyears_at_risk.head()"
   ]
  },
  {
   "cell_type": "code",
   "execution_count": null,
   "metadata": {},
   "outputs": [],
   "source": [
    "njyears_at_risk.plot(kind='bar', figsize=(10,5))\n",
    "plt.title('(Cadmium) Years at Risk in NJ', fontsize=14)\n",
    "plt.xlabel('Year', fontsize=14)\n",
    "plt.ylabel('FINAL VALUE MEAN UG M3', fontsize=14)"
   ]
  },
  {
   "cell_type": "code",
   "execution_count": null,
   "metadata": {},
   "outputs": [],
   "source": [
    "coordinates = []\n",
    "    \n",
    "for index, row in cadmium_clean.iterrows(): \n",
    "    if (row['MONITOR_LATITUDE'], row['MONITOR_LONGITUDE']) not in coordinates:\n",
    "        coordinates.append((row['MONITOR_LATITUDE'],row['MONITOR_LONGITUDE']))\n",
    "coordinates"
   ]
  },
  {
   "cell_type": "code",
   "execution_count": null,
   "metadata": {},
   "outputs": [],
   "source": [
    "cities = []\n",
    "for coordinate_pair in coordinates:\n",
    "    lat, lon = coordinate_pair\n",
    "    cities.append(citipy.nearest_city(lat, lon))\n",
    "# cities\n",
    "city_names = []\n",
    "for city in cities:\n",
    "    city_names.append(city.city_name)\n",
    "city_names"
   ]
  },
  {
   "cell_type": "code",
   "execution_count": null,
   "metadata": {},
   "outputs": [],
   "source": [
    "city_data = pd.DataFrame({'Coordinates':coordinates,'City Name': city_names})\n",
    "city_data"
   ]
  },
  {
   "cell_type": "code",
   "execution_count": null,
   "metadata": {},
   "outputs": [],
   "source": [
    "figure_layout = {\n",
    "    'width': '800px',\n",
    "    'height': '300px',\n",
    "    'border': '1px solid black',\n",
    "    'padding': '1px',\n",
    "    'margin': '0 auto 0 auto'\n",
    "}\n",
    "fig = gmaps.figure(layout=figure_layout)"
   ]
  },
  {
   "cell_type": "code",
   "execution_count": null,
   "metadata": {},
   "outputs": [],
   "source": [
    "# Assign the marker layer to a variable\n",
    "markers = gmaps.marker_layer(coordinates)\n",
    "# Add the layer to the map\n",
    "fig.add_layer(markers)\n",
    "fig"
   ]
  },
  {
   "cell_type": "code",
   "execution_count": null,
   "metadata": {},
   "outputs": [],
   "source": [
    "city_index = []\n",
    "for index, row in cadmium_clean.iterrows():\n",
    "    for cindex, crow in city_data.iterrows():\n",
    "        if crow['Coordinates'][1] == row['MONITOR_LONGITUDE']:\n",
    "            city_index.append(crow['City Name'])\n",
    "            continue\n",
    "            \n",
    "cadmium_clean['City'] = city_index            \n",
    "cadmium_clean.head()"
   ]
  },
  {
   "cell_type": "code",
   "execution_count": null,
   "metadata": {},
   "outputs": [],
   "source": [
    "cadmium_24hours= cadmium_clean[cadmium_clean['DURATION_DESC'] == '24 HOURS']\n",
    "cadmium_24hours.head()"
   ]
  },
  {
   "cell_type": "code",
   "execution_count": null,
   "metadata": {},
   "outputs": [],
   "source": [
    "cadmium_24hours=cadmium_24hours.dropna()\n",
    "cadmium_24hours"
   ]
  },
  {
   "cell_type": "code",
   "execution_count": null,
   "metadata": {},
   "outputs": [],
   "source": [
    "city_group = cadmium_24hours.groupby(by=['YEAR','City'])\n",
    "city_group.head()"
   ]
  },
  {
   "cell_type": "code",
   "execution_count": null,
   "metadata": {},
   "outputs": [],
   "source": [
    "city_df = pd.DataFrame(city_group['SAMPLE_VALUE_STD_FINAL_UG_M3'].mean())\n",
    "city_df"
   ]
  },
  {
   "cell_type": "code",
   "execution_count": null,
   "metadata": {},
   "outputs": [],
   "source": [
    "#Get cities with Risk of getting cancer by Cadmium EPA at Risk levels by mean levels of the data duing the time evaluated\n",
    "cadmiumcities_at_risk= city_df[city_df['SAMPLE_VALUE_STD_FINAL_UG_M3'] > 0.0018]\n",
    "cadmiumcities_at_risk=cadmiumcities_at_risk.rename(columns={'SAMPLE_VALUE_STD_FINAL_UG_M3':'FINAL VALUE MEAN UG M3'})\n",
    "cadmiumcities_at_risk.head()"
   ]
  },
  {
   "cell_type": "code",
   "execution_count": null,
   "metadata": {},
   "outputs": [],
   "source": [
    "cadmiumcities_at_risk.plot(kind='bar', figsize=(10,5))\n",
    "plt.title('(Cadmium) Cities and Years at Risk in NJ', fontsize=14)\n",
    "plt.xlabel('Year', fontsize=14)\n",
    "plt.ylabel('FINAL VALUE MEAN UG M3', fontsize=14)"
   ]
  },
  {
   "cell_type": "code",
   "execution_count": null,
   "metadata": {},
   "outputs": [],
   "source": [
    "city_df_pivot=city_df.reset_index().pivot('YEAR','City','SAMPLE_VALUE_STD_FINAL_UG_M3')\n",
    "city_df_pivot=city_df_pivot.fillna(0)\n",
    "\n",
    "city_df_pivot"
   ]
  },
  {
   "cell_type": "code",
   "execution_count": null,
   "metadata": {},
   "outputs": [],
   "source": [
    "\n",
    "city_df_elizabeth=city_df_pivot['elizabeth']\n",
    "city_df_camden=city_df_pivot['camden']\n",
    "city_df_highland_park=city_df_pivot['highland park']\n",
    "city_df_hopatcong=city_df_pivot['hopatcong']"
   ]
  },
  {
   "cell_type": "code",
   "execution_count": null,
   "metadata": {},
   "outputs": [],
   "source": [
    "fig=plt.figure(figsize=(10,5))\n",
    "city_df_elizabeth.plot(x='YEAR', y='elizabeth', color=\"r\", marker='o', markersize=5, linestyle=\"dashed\", linewidth=0.50, label='elizabeth')\n",
    "city_df_camden.plot(x='YEAR', y='camden', color=\"b\", marker='^', markersize=5, linestyle=\"dashed\", linewidth=0.50, label='camden')\n",
    "city_df_highland_park.plot(x='YEAR', y='highland park', color=\"g\", marker='s', markersize=5, linestyle=\"dashed\", linewidth=0.50, label='highland park')\n",
    "city_df_hopatcong.plot(x='YEAR', y='hopatcong', color=\"k\", marker='d', markersize=5, linestyle=\"dashed\", linewidth=0.50, label='hopatcong')\n",
    "plt.title('Change of Mean Values Over Time',fontsize=12)\n",
    "plt.xlabel('Time (Years)',fontsize=12)\n",
    "plt.ylabel('FINAL VALUE MEAN UG M3',fontsize=10)\n",
    "plt.legend(loc=\"best\", fontsize=\"small\", fancybox=True)\n",
    "plt.show()"
   ]
  },
  {
   "cell_type": "code",
   "execution_count": null,
   "metadata": {},
   "outputs": [],
   "source": [
    "#Out of the City with Highest Risk Show change of Mean over the time evaluated\n",
    "city_at_higher_risk=cadmium_24hours[cadmium_24hours['City'] == 'highland park']\n",
    "city_at_higher_risk_year=city_at_higher_risk.groupby(by='YEAR')\n",
    "city_at_higher_risk_df = pd.DataFrame(city_at_higher_risk_year['SAMPLE_VALUE_STD_FINAL_UG_M3'].mean())\n",
    "city_at_higher_risk_df=city_at_higher_risk_df.rename(columns={'SAMPLE_VALUE_STD_FINAL_UG_M3':'FINAL VALUE MEAN UG M3'})\n",
    "city_at_higher_risk_df\n",
    "# city_at_higher_risk"
   ]
  },
  {
   "cell_type": "code",
   "execution_count": null,
   "metadata": {},
   "outputs": [],
   "source": [
    "year_list = ['2001', '2002', '2003', '2004', '2005', '2006', '2007', '2008', '2009', '2010', '2011',\n",
    "            '2012', '2013', '2014', '2015', '2016']"
   ]
  },
  {
   "cell_type": "code",
   "execution_count": null,
   "metadata": {},
   "outputs": [],
   "source": [
    "Final_value_mean=city_at_higher_risk_df['FINAL VALUE MEAN UG M3'].values\n",
    "Final_value_mean"
   ]
  },
  {
   "cell_type": "code",
   "execution_count": null,
   "metadata": {},
   "outputs": [],
   "source": [
    "#Show change of mean Value of City with highest risk level over the time evaluated\n",
    "plt.figure(figsize=(10,5))\n",
    "plt.plot(year_list, Final_value_mean, marker='o')\n",
    "plt.title('Highest at Risk City (Highland Park)', fontsize=14)\n",
    "plt.xlabel('Year', fontsize=14)\n",
    "plt.ylabel('FINAL VALUE MEAN UG M3', fontsize=14)\n",
    "plt.grid(True)\n",
    "plt.show()"
   ]
  },
  {
   "cell_type": "code",
   "execution_count": null,
   "metadata": {},
   "outputs": [],
   "source": []
  }
 ],
 "metadata": {
  "kernelspec": {
   "display_name": "Python 3",
   "language": "python",
   "name": "python3"
  },
  "language_info": {
   "codemirror_mode": {
    "name": "ipython",
    "version": 3
   },
   "file_extension": ".py",
   "mimetype": "text/x-python",
   "name": "python",
   "nbconvert_exporter": "python",
   "pygments_lexer": "ipython3",
   "version": "3.7.3"
  }
 },
 "nbformat": 4,
 "nbformat_minor": 2
}
